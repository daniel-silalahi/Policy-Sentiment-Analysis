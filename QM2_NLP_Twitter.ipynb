{
  "nbformat": 4,
  "nbformat_minor": 0,
  "metadata": {
    "colab": {
      "provenance": []
    },
    "kernelspec": {
      "name": "python3",
      "display_name": "Python 3"
    },
    "language_info": {
      "name": "python"
    }
  },
  "cells": [
    {
      "cell_type": "markdown",
      "source": [
        "Created by Daniel Silalahi (Student Number:21073058)"
      ],
      "metadata": {
        "id": "oeEA4wcbF33X"
      }
    },
    {
      "cell_type": "markdown",
      "source": [
        "Download the Data\n"
      ],
      "metadata": {
        "id": "dcYRBl_YEZsD"
      }
    },
    {
      "cell_type": "code",
      "execution_count": null,
      "metadata": {
        "id": "wGes3hRoEKD4"
      },
      "outputs": [],
      "source": [
        "%%capture\n",
        "!pip install spacy\n",
        "!pip install scattertext\n",
        "!pip install tika\n",
        "!pip install spacytextblob\n",
        "!pip install unicode\n",
        "\n",
        "\n",
        "import spacy\n",
        "import json\n",
        "import pylab\n",
        "from IPython.core.display import display, HTML\n",
        "import nltk\n",
        "from tika import parser\n",
        "import numpy as np\n",
        "import pandas as pd\n",
        "import matplotlib.pyplot as plt\n",
        "from spacytextblob.spacytextblob import SpacyTextBlob\n",
        "\n",
        "%matplotlib inline\n",
        "pylab.rcParams['figure.figsize'] = (10., 8.)\n",
        "nlp = spacy.load(\"en_core_web_sm\")\n",
        "nlp.add_pipe('spacytextblob')"
      ]
    },
    {
      "cell_type": "code",
      "source": [
        "#Make a ./data/project directory\n",
        "!mkdir data\n",
        "!mkdir data/project"
      ],
      "metadata": {
        "id": "DC3kJctWEiUd"
      },
      "execution_count": null,
      "outputs": []
    },
    {
      "cell_type": "markdown",
      "source": [
        "Insert and process link to data\n"
      ],
      "metadata": {
        "id": "MA6UYTNyEoEJ"
      }
    },
    {
      "cell_type": "code",
      "source": [
        "!curl 'filename' -o data/project/'filename'"
      ],
      "metadata": {
        "id": "uSajbplAEsOw",
        "colab": {
          "base_uri": "https://localhost:8080/"
        },
        "outputId": "48628d55-3c90-4367-e71f-330b3643b329"
      },
      "execution_count": null,
      "outputs": [
        {
          "output_type": "stream",
          "name": "stdout",
          "text": [
            "  % Total    % Received % Xferd  Average Speed   Time    Time     Time  Current\n",
            "                                 Dload  Upload   Total   Spent    Left  Speed\n",
            "\r  0     0    0     0    0     0      0      0 --:--:-- --:--:-- --:--:--     0\r  0     0    0     0    0     0      0      0 --:--:-- --:--:-- --:--:--     0curl: (6) Could not resolve host: filename\n"
          ]
        }
      ]
    },
    {
      "cell_type": "markdown",
      "source": [
        "Install tweepy\n"
      ],
      "metadata": {
        "id": "AK4KOxZR9GSY"
      }
    },
    {
      "cell_type": "code",
      "source": [
        "!pip install tweepy"
      ],
      "metadata": {
        "colab": {
          "base_uri": "https://localhost:8080/"
        },
        "id": "rgymDDGg9Kf7",
        "outputId": "552564e9-a871-4519-bba8-412a6746c168"
      },
      "execution_count": null,
      "outputs": [
        {
          "output_type": "stream",
          "name": "stdout",
          "text": [
            "Requirement already satisfied: tweepy in /usr/local/lib/python3.10/dist-packages (4.14.0)\n",
            "Requirement already satisfied: oauthlib<4,>=3.2.0 in /usr/local/lib/python3.10/dist-packages (from tweepy) (3.2.2)\n",
            "Requirement already satisfied: requests<3,>=2.27.0 in /usr/local/lib/python3.10/dist-packages (from tweepy) (2.32.3)\n",
            "Requirement already satisfied: requests-oauthlib<2,>=1.2.0 in /usr/local/lib/python3.10/dist-packages (from tweepy) (1.3.1)\n",
            "Requirement already satisfied: charset-normalizer<4,>=2 in /usr/local/lib/python3.10/dist-packages (from requests<3,>=2.27.0->tweepy) (3.4.0)\n",
            "Requirement already satisfied: idna<4,>=2.5 in /usr/local/lib/python3.10/dist-packages (from requests<3,>=2.27.0->tweepy) (3.10)\n",
            "Requirement already satisfied: urllib3<3,>=1.21.1 in /usr/local/lib/python3.10/dist-packages (from requests<3,>=2.27.0->tweepy) (2.2.3)\n",
            "Requirement already satisfied: certifi>=2017.4.17 in /usr/local/lib/python3.10/dist-packages (from requests<3,>=2.27.0->tweepy) (2024.8.30)\n"
          ]
        }
      ]
    },
    {
      "cell_type": "markdown",
      "source": [
        "Twitter Data\n"
      ],
      "metadata": {
        "id": "cp0XrWXYN61X"
      }
    },
    {
      "cell_type": "code",
      "source": [
        "import tweepy\n",
        "import pandas as pd\n",
        "\n",
        "consumer_key = \"g1HqYDd0uqJrhefHhpkDRxbUb\"\n",
        "consumer_secret = \"KbhPjZiLmjFySqWh6WNw5FGFgLJR2NiMhcOVZemfyZXXECqJkj\"\n",
        "access_key = \"1128328751157133313-dtgTxSnjRaYTYywqoJtm4I8taUjyhs\"\n",
        "access_secret = \"ZuOnAivKugIvQs4HKm82qSpBhzAOKVKdJjq8NirZ43RLA\"\n",
        "\n",
        "# Twitter authentication\n",
        "auth = tweepy.OAuthHandler(consumer_key, consumer_secret)\n",
        "auth.set_access_token(access_key, access_secret)\n",
        "\n",
        "# Creating an API object\n",
        "api = tweepy.API(auth)\n",
        "\n",
        "# create a query for tweets, but exclude retweets and replies\n",
        "tweets = tweepy.Cursor(api.search,\n",
        "                       q=\"roevwade exclude:replies exclude:retweets\",\n",
        "                       tweet_mode='extended').items()\n",
        "\n",
        "list = []\n",
        "for tweet in tweets:\n",
        "    text = tweet._json[\"full_text\"]\n",
        "\n",
        "    refined_tweet = {'text' : text,\n",
        "                    'date' : tweet.created_at}\n",
        "\n",
        "    list.append(refined_tweet)\n",
        "\n",
        "df = pd.DataFrame(list)\n",
        "print(df.head())\n"
      ],
      "metadata": {
        "colab": {
          "base_uri": "https://localhost:8080/",
          "height": 216
        },
        "id": "mM_LOkGoN47a",
        "outputId": "a15900b7-f735-47ad-c0e5-94589435a4aa"
      },
      "execution_count": null,
      "outputs": [
        {
          "output_type": "error",
          "ename": "AttributeError",
          "evalue": "'API' object has no attribute 'search'",
          "traceback": [
            "\u001b[0;31m---------------------------------------------------------------------------\u001b[0m",
            "\u001b[0;31mAttributeError\u001b[0m                            Traceback (most recent call last)",
            "\u001b[0;32m<ipython-input-5-c0870c86613f>\u001b[0m in \u001b[0;36m<cell line: 17>\u001b[0;34m()\u001b[0m\n\u001b[1;32m     15\u001b[0m \u001b[0;34m\u001b[0m\u001b[0m\n\u001b[1;32m     16\u001b[0m \u001b[0;31m# create a query for tweets, but exclude retweets and replies\u001b[0m\u001b[0;34m\u001b[0m\u001b[0;34m\u001b[0m\u001b[0m\n\u001b[0;32m---> 17\u001b[0;31m tweets = tweepy.Cursor(api.search, \n\u001b[0m\u001b[1;32m     18\u001b[0m                        \u001b[0mq\u001b[0m\u001b[0;34m=\u001b[0m\u001b[0;34m\"roevwade exclude:replies exclude:retweets\"\u001b[0m\u001b[0;34m,\u001b[0m\u001b[0;34m\u001b[0m\u001b[0;34m\u001b[0m\u001b[0m\n\u001b[1;32m     19\u001b[0m                        tweet_mode='extended').items()\n",
            "\u001b[0;31mAttributeError\u001b[0m: 'API' object has no attribute 'search'"
          ]
        }
      ]
    },
    {
      "cell_type": "markdown",
      "source": [
        "Clean text (remove emojis or ani non ASCII characters) and remove date, as it is only a short time period (1 week)"
      ],
      "metadata": {
        "id": "bbDoFAthY02B"
      }
    },
    {
      "cell_type": "code",
      "source": [
        "import re\n",
        "\n",
        "# Create a new dataframe text column\n",
        "df_cleaned = pd.DataFrame(columns=['Text'])\n",
        "\n",
        "# Clean up values of df['text'] and insert into df_cleaned['Text']\n",
        "#https://stackoverflow.com/questions/36340627/remove-non-ascii-characters-from-pandas-column\n",
        "df_cleaned['Text'] = df['text'].str.encode('ascii', 'ignore').str.decode('ascii')\n",
        "\n",
        "# Lowercase all text to make analysis easier\n",
        "df_cleaned['Text'] = df_cleaned['Text'].str.lower()\n",
        "\n",
        "\n",
        "# clean other parts of text, such as mentions, hashtags, links, etc\n",
        "# https://docs.python.org/3/library/re.html\n",
        "# https://medium.com/@oscar.sefa/twitter-sentiment-analysis-using-python-for-beginners-1ee1bc15dc86\n",
        "def cleanTweets(text):\n",
        "    text = re.sub('@[A-Za-z0-9_]+', '', text) #removes @mentions\n",
        "    text = re.sub('#','',text) #removes hashtag symbol\n",
        "    text = re.sub('https?:\\/\\/\\S+', '', text)  #Removes links\n",
        "    text = re.sub('\\n',' ',text) # Removes any blank lines of space within tweets,\n",
        "    return text                  # makes one big paragraph instead of multiple smaller ones\n",
        "\n",
        "\n",
        "df_cleaned['Text'] = df_cleaned['Text'].apply(cleanTweets) #apply cleanTweet function to the tweet\n",
        "print('Original Data')\n",
        "print(df.head())\n",
        "print('\\nCleaned Data')\n",
        "print(df_cleaned.head())"
      ],
      "metadata": {
        "colab": {
          "base_uri": "https://localhost:8080/"
        },
        "id": "ZvktXKTqY4Dw",
        "outputId": "c805b5b9-17aa-4d9a-c5b2-4e599cf7784f"
      },
      "execution_count": null,
      "outputs": [
        {
          "output_type": "stream",
          "name": "stdout",
          "text": [
            "Original Data\n",
            "                                                text                date\n",
            "0  Watching the New Amsterdam episode on RoeVWade... 2023-01-03 18:39:20\n",
            "1  Check out our episode on #RoeVWade &amp; #Chap... 2023-01-03 18:32:45\n",
            "2  🚨 The same legal arguments used to overturn #R... 2023-01-03 17:45:09\n",
            "3  (OPINION/@tweetmattingly) Churches were always... 2023-01-03 17:29:30\n",
            "4  States enacted 50 #abortion restrictions in 20... 2023-01-03 16:38:57\n",
            "\n",
            "Cleaned Data\n",
            "                                                Text\n",
            "0  watching new amsterdam episode feeling physica...\n",
            "1  check episode roevwade chappelle tomorrow spec...\n",
            "2  legal arguments used overturn roevwade also th...\n",
            "3  (opinion/) churches always active abortion deb...\n",
            "4  states enacted 50 abortion restrictions 2022, ...\n"
          ]
        }
      ]
    },
    {
      "cell_type": "markdown",
      "source": [
        "Create a list that contains full sentences of abortion in tweet\n"
      ],
      "metadata": {
        "id": "ANz_YZNlqGyt"
      }
    },
    {
      "cell_type": "code",
      "source": [
        "#https://docs.python.org/3/library/collections.html\n",
        "from collections import Counter\n",
        "\n",
        "# Find most common words\n",
        "word_count = Counter(\" \".join(df_cleaned[\"Text\"]).split()).most_common(20)\n",
        "\n",
        "# Create a dataframe with most common words\n",
        "frequent_words = pd.DataFrame(word_count, columns = ['Word', 'Frequency'])\n",
        "\n",
        "print(frequent_words)"
      ],
      "metadata": {
        "id": "FElIPhjaqtFA",
        "colab": {
          "base_uri": "https://localhost:8080/"
        },
        "outputId": "04c557c6-42eb-4e34-ab1f-9838f170aca0"
      },
      "execution_count": null,
      "outputs": [
        {
          "output_type": "stream",
          "name": "stdout",
          "text": [
            "                    Word  Frequency\n",
            "0               roevwade        189\n",
            "1               abortion         58\n",
            "2                  court         18\n",
            "3                 scotus         18\n",
            "4                  women         18\n",
            "5                    new         17\n",
            "6                  right         17\n",
            "7                    roe         17\n",
            "8                   year         17\n",
            "9                  trump         15\n",
            "10                 state         14\n",
            "11                health         14\n",
            "12               supreme         12\n",
            "13          supremecourt         12\n",
            "14                racism         12\n",
            "15                 legal         11\n",
            "16              overturn         11\n",
            "17              decision         11\n",
            "18        abortionrights         11\n",
            "19  abortionishealthcare         11\n"
          ]
        }
      ]
    },
    {
      "cell_type": "markdown",
      "source": [
        "Creating a bar chart displaying most common words"
      ],
      "metadata": {
        "id": "4xmIS_WVZnLQ"
      }
    },
    {
      "cell_type": "code",
      "source": [
        "#https://matplotlib.org/stable/gallery/lines_bars_and_markers/barh.html\n",
        "import matplotlib.pyplot as plot\n",
        "\n",
        "frequent_words.plot.barh(x=\"Word\", y=\"Frequency\", title=\"Frequency of Words in Tweets Containing 'RoevWade'\");\n",
        "\n",
        "plot.show(block=True)"
      ],
      "metadata": {
        "colab": {
          "base_uri": "https://localhost:8080/",
          "height": 499
        },
        "id": "udKpiFw4Z4W0",
        "outputId": "b2e656e9-90d4-4b6a-c64b-3e947cfa14b8"
      },
      "execution_count": null,
      "outputs": [
        {
          "output_type": "display_data",
          "data": {
            "text/plain": [
              "<Figure size 720x576 with 1 Axes>"
            ],
            "image/png": "[encoded data removed]"
          },
          "metadata": {
            "needs_background": "light"
          }
        }
      ]
    },
    {
      "cell_type": "markdown",
      "source": [
        "Sentiment Analysis\n",
        "\n",
        "Sentiment analysis is the computational study of people's opinions, sentiments, emotions, appraisals, and attitudes towards entities such as products, services, organizations, individuals, issues, events, topics, and their attributes. Let's study the sentiment of the tweets in this dataset.\n",
        "\n",
        "spacytextblob performs sentiment analysis using the TextBlob library. Adding spacytextblob to a spaCy nlp pipeline creates a new extension attribute for the Doc."
      ],
      "metadata": {
        "id": "PGbQ4XTSrOhE"
      }
    },
    {
      "cell_type": "code",
      "source": [
        "#Create a new dataframe for sentiment analysis column\n",
        "df_sentimentAnalysis = pd.DataFrame(columns=['Text'])\n",
        "df_sentimentAnalysis['Text'] = df['text']\n",
        "\n",
        "df_sentimentAnalysis['Text'] = df_sentimentAnalysis['Text'].str.encode('ascii', 'ignore').str.decode('ascii')\n",
        "df_sentimentAnalysis['Text'] = df_sentimentAnalysis['Text'].apply(cleanTweets)\n",
        "\n",
        "df_sentimentAnalysis['Polarity'] = df_sentimentAnalysis['Text'].apply(lambda x: nlp(x)._.blob.polarity)\n",
        "df_sentimentAnalysis['Subjectivity'] = df_sentimentAnalysis['Text'].apply(lambda x: nlp(x)._.blob.subjectivity)\n",
        "\n",
        "# Function to return positive, neutral, negative according to the polarity\n",
        "def analysis(score):\n",
        "  if score>0:\n",
        "        return 'Positive'\n",
        "  elif score ==0:\n",
        "        return 'Neutral'\n",
        "  else:\n",
        "        return 'Negative'\n",
        "\n",
        "#apply function to the 'Polarity' column and store values in a new column named 'Analysis'\n",
        "df_sentimentAnalysis['Analysis'] = df_sentimentAnalysis['Polarity'].apply(analysis)\n",
        "\n",
        "# create a new df for subjectivity >= 0.5\n",
        "df_subjective = df_sentimentAnalysis[df_sentimentAnalysis['Subjectivity'] >= 0.5]\n",
        "\n",
        "print('Sentiment Analysis')\n",
        "print(df_sentimentAnalysis.head())\n",
        "print('\\nSentiment Analysis for Subjectivity>=0.5')\n",
        "print(df_subjective.head())"
      ],
      "metadata": {
        "colab": {
          "base_uri": "https://localhost:8080/",
          "height": 240
        },
        "id": "GKHZTVMruV6Q",
        "outputId": "552d59fe-1a63-4c8f-d72f-6e1557f95a8f"
      },
      "execution_count": null,
      "outputs": [
        {
          "output_type": "error",
          "ename": "NameError",
          "evalue": "ignored",
          "traceback": [
            "\u001b[0;31m---------------------------------------------------------------------------\u001b[0m",
            "\u001b[0;31mNameError\u001b[0m                                 Traceback (most recent call last)",
            "\u001b[0;32m<ipython-input-1-0c37ea5a0996>\u001b[0m in \u001b[0;36m<module>\u001b[0;34m\u001b[0m\n\u001b[1;32m      1\u001b[0m \u001b[0;31m#Create a new dataframe for sentiment analysis column\u001b[0m\u001b[0;34m\u001b[0m\u001b[0;34m\u001b[0m\u001b[0;34m\u001b[0m\u001b[0m\n\u001b[0;32m----> 2\u001b[0;31m \u001b[0mdf_sentimentAnalysis\u001b[0m \u001b[0;34m=\u001b[0m \u001b[0mpd\u001b[0m\u001b[0;34m.\u001b[0m\u001b[0mDataFrame\u001b[0m\u001b[0;34m(\u001b[0m\u001b[0mcolumns\u001b[0m\u001b[0;34m=\u001b[0m\u001b[0;34m[\u001b[0m\u001b[0;34m'Text'\u001b[0m\u001b[0;34m]\u001b[0m\u001b[0;34m)\u001b[0m\u001b[0;34m\u001b[0m\u001b[0;34m\u001b[0m\u001b[0m\n\u001b[0m\u001b[1;32m      3\u001b[0m \u001b[0mdf_sentimentAnalysis\u001b[0m\u001b[0;34m[\u001b[0m\u001b[0;34m'Text'\u001b[0m\u001b[0;34m]\u001b[0m \u001b[0;34m=\u001b[0m \u001b[0mdf\u001b[0m\u001b[0;34m[\u001b[0m\u001b[0;34m'text'\u001b[0m\u001b[0;34m]\u001b[0m\u001b[0;34m\u001b[0m\u001b[0;34m\u001b[0m\u001b[0m\n\u001b[1;32m      4\u001b[0m \u001b[0;34m\u001b[0m\u001b[0m\n\u001b[1;32m      5\u001b[0m \u001b[0mdf_sentimentAnalysis\u001b[0m\u001b[0;34m[\u001b[0m\u001b[0;34m'Text'\u001b[0m\u001b[0;34m]\u001b[0m \u001b[0;34m=\u001b[0m \u001b[0mdf_sentimentAnalysis\u001b[0m\u001b[0;34m[\u001b[0m\u001b[0;34m'Text'\u001b[0m\u001b[0;34m]\u001b[0m\u001b[0;34m.\u001b[0m\u001b[0mstr\u001b[0m\u001b[0;34m.\u001b[0m\u001b[0mencode\u001b[0m\u001b[0;34m(\u001b[0m\u001b[0;34m'ascii'\u001b[0m\u001b[0;34m,\u001b[0m \u001b[0;34m'ignore'\u001b[0m\u001b[0;34m)\u001b[0m\u001b[0;34m.\u001b[0m\u001b[0mstr\u001b[0m\u001b[0;34m.\u001b[0m\u001b[0mdecode\u001b[0m\u001b[0;34m(\u001b[0m\u001b[0;34m'ascii'\u001b[0m\u001b[0;34m)\u001b[0m\u001b[0;34m\u001b[0m\u001b[0;34m\u001b[0m\u001b[0m\n",
            "\u001b[0;31mNameError\u001b[0m: name 'pd' is not defined"
          ]
        }
      ]
    },
    {
      "cell_type": "markdown",
      "source": [
        "Create a pie chart of Polarity"
      ],
      "metadata": {
        "id": "OBYJ7urOwWzc"
      }
    },
    {
      "cell_type": "code",
      "source": [
        "#https://matplotlib.org/stable/gallery/pie_and_polar_charts/pie_features.html\n",
        "\n",
        "\n",
        "# Pie chart for analysis:\n",
        "pie_chart_values = df_sentimentAnalysis['Analysis'].value_counts()\n",
        "print(pie_chart_values)\n",
        "pie_chart_values.plot(kind = 'pie', label='', autopct='%1.1f%%', startangle=90)\n",
        "plt.title('Pie Chart for Polarity of All Tweets')\n",
        "plt.show()\n",
        "\n",
        "# create a pie chart for analysis but only for subjectivity >= 0.5\n",
        "pie_chart_values = df_subjective['Analysis'].value_counts()\n",
        "print(pie_chart_values)\n",
        "pie_chart_values.plot(kind = 'pie', label='', autopct='%1.1f%%', startangle=90)\n",
        "plt.title('Pie Chart for Polarity of Tweets with Subjectivity >= 0.5')\n",
        "plt.show()\n"
      ],
      "metadata": {
        "colab": {
          "base_uri": "https://localhost:8080/",
          "height": 1000
        },
        "id": "E6DEvMOgz43X",
        "outputId": "c0f865ff-fc05-4271-c06b-f633a9fc16aa"
      },
      "execution_count": null,
      "outputs": [
        {
          "output_type": "stream",
          "name": "stdout",
          "text": [
            "Positive    109\n",
            "Neutral      81\n",
            "Negative     35\n",
            "Name: Analysis, dtype: int64\n"
          ]
        },
        {
          "output_type": "display_data",
          "data": {
            "text/plain": [
              "<Figure size 720x576 with 1 Axes>"
            ],
            "image/png": "[encoded data removed]"
          },
          "metadata": {}
        },
        {
          "output_type": "stream",
          "name": "stdout",
          "text": [
            "Positive    59\n",
            "Negative    20\n",
            "Neutral      1\n",
            "Name: Analysis, dtype: int64\n"
          ]
        },
        {
          "output_type": "display_data",
          "data": {
            "text/plain": [
              "<Figure size 720x576 with 1 Axes>"
            ],
            "image/png": "[encoded data removed]"
          },
          "metadata": {}
        }
      ]
    },
    {
      "cell_type": "markdown",
      "source": [
        "Creating a Scatterplot of Polarity and Subjectivity"
      ],
      "metadata": {
        "id": "WE3ucNi73ykf"
      }
    },
    {
      "cell_type": "code",
      "source": [
        "#create a loop that repeats for amount of rows the df_sentimentAnalysis has\n",
        "for row in range(df_sentimentAnalysis.shape[0]):\n",
        "    plt.scatter(df_sentimentAnalysis['Polarity'][row], df_sentimentAnalysis['Subjectivity'][row], color='blue')\n",
        "plt.title('Sentiment Analysis of Tweets Containing \"RoeVWade\"')\n",
        "plt.xlabel('Polarity')\n",
        "plt.ylabel('Subjectivity')\n",
        "plt.show()"
      ],
      "metadata": {
        "colab": {
          "base_uri": "https://localhost:8080/",
          "height": 513
        },
        "id": "FHiD7eCs38ni",
        "outputId": "57588ea2-c2cb-4021-de81-d24efbb331e9"
      },
      "execution_count": null,
      "outputs": [
        {
          "output_type": "display_data",
          "data": {
            "text/plain": [
              "<Figure size 720x576 with 1 Axes>"
            ],
            "image/png": "[encoded data removed]"
          },
          "metadata": {
            "needs_background": "light"
          }
        }
      ]
    },
    {
      "cell_type": "markdown",
      "source": [
        "To get a sense of what the nlp model defines as high or low polarity, we will print the 5 tweets of lowest polarity and 5 tweets with highest polarity"
      ],
      "metadata": {
        "id": "2MwKDFqrS-yA"
      }
    },
    {
      "cell_type": "code",
      "source": [
        "# get the 5 lowest polarity values\n",
        "lowest5 = df_subjective.nsmallest(5, 'Polarity')\n",
        "\n",
        "# get the 5 highest polarity values\n",
        "highest5 = df_subjective.nlargest(5, 'Polarity')\n",
        "\n",
        "# print the text of 5 rows of lowest polarity\n",
        "count = 1\n",
        "print('Lowest Polarity:')\n",
        "for text in lowest5['Text']:\n",
        "    print(count, ': ', text)\n",
        "    count += 1\n",
        "\n",
        "# print the text of 5 rows of highest polarity\n",
        "count = 1\n",
        "print('\\nHighest Polarity:')\n",
        "for text in highest5['Text']:\n",
        "    print(count, ': ', text)\n",
        "    count += 1"
      ],
      "metadata": {
        "colab": {
          "base_uri": "https://localhost:8080/"
        },
        "id": "5-FZnkOQTMNE",
        "outputId": "51845965-3e07-4632-ed82-7afad721231a"
      },
      "execution_count": null,
      "outputs": [
        {
          "output_type": "stream",
          "name": "stdout",
          "text": [
            "Lowest Polarity:\n",
            "1 :  Outrageous RoeVWade \n",
            "2 :  Progressives in 2016, \"We won't be voting for the DemocraticNominee and dont care if DonaldTrump becomes President\"  Progressives today, \"We are \"Outraged\" that the SupremeCourt that was appointed by FormerPresidentTrump voted to overturn RoeVWade\"   Which is it??? \n",
            "3 :  MuskRat  TwitterGate Education   FauciFiles  GinniThomas   january6thinsurrection  pfizerdocuments RoeVWade  FamilyAffair  EducationForAll racism  Health Idiotic decadence NewYear \n",
            "4 :  I know where Ill be! RoeVWade \n",
            "5 :  RoeVWade SCOTUS AbortionIsMurder were the talk of the month &amp; in fact still is, but was merely a BLIP on the June, 2022 GodSmacks WIR Blog pages:  \n",
            "\n",
            "Highest Polarity:\n",
            "1 :  Great thread trump RoeVWade \n",
            "2 :  You know the best thing about being pro-choice? It literally gives you the opportunity to mind your own damn business.  RoeVWade ProChoice herbodyherchoice\n",
            "3 :  It's NationalCandyCaneDay and if you love democracy just as much as a delicious ros it's your time to shine!  Meet 's Codify Roe-s  all profits go to  and their mission to RegisterDemocrats!  Voterizer Vote RoevWade  \n",
            "4 :  good riddance RoeVWade prochoice ArianaGrande\n",
            "5 :  Best day of 2022. I cant wait to see what 2023 has in store. Happy New Year! RoeVWade \n"
          ]
        }
      ]
    }
  ]
}